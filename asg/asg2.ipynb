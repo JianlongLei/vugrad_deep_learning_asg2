{
 "cells": [
  {
   "cell_type": "code",
   "id": "initial_id",
   "metadata": {
    "collapsed": true,
    "ExecuteTime": {
     "end_time": "2024-11-24T18:58:05.284961Z",
     "start_time": "2024-11-24T18:58:05.282030Z"
    }
   },
   "source": [
    "from _context import vugrad\n",
    "import vugrad as vg\n",
    "import numpy as np\n",
    "import matplotlib.pyplot as plt\n"
   ],
   "outputs": [],
   "execution_count": 3
  },
  {
   "metadata": {
    "ExecuteTime": {
     "end_time": "2024-11-24T18:58:05.307090Z",
     "start_time": "2024-11-24T18:58:05.303582Z"
    }
   },
   "cell_type": "code",
   "source": [
    "a = vg.TensorNode(np.random.randn(2, 2))\n",
    "b = vg.TensorNode(np.random.randn(2, 2))\n",
    "c = a + b"
   ],
   "id": "80e20a677c1b7cc7",
   "outputs": [],
   "execution_count": 4
  },
  {
   "metadata": {
    "ExecuteTime": {
     "end_time": "2024-11-24T18:58:05.318138Z",
     "start_time": "2024-11-24T18:58:05.313108Z"
    }
   },
   "cell_type": "code",
   "source": "a.value",
   "id": "9b778c9b2937a964",
   "outputs": [
    {
     "data": {
      "text/plain": [
       "array([[-0.93377643, -1.12970255],\n",
       "       [ 1.46772344, -0.24736857]])"
      ]
     },
     "execution_count": 5,
     "metadata": {},
     "output_type": "execute_result"
    }
   ],
   "execution_count": 5
  },
  {
   "metadata": {
    "ExecuteTime": {
     "end_time": "2024-11-24T18:58:05.348613Z",
     "start_time": "2024-11-24T18:58:05.344702Z"
    }
   },
   "cell_type": "code",
   "source": "b.value",
   "id": "60f2d36a85ef4594",
   "outputs": [
    {
     "data": {
      "text/plain": [
       "array([[-1.1471218 ,  1.29098047],\n",
       "       [-1.35104762, -0.1599634 ]])"
      ]
     },
     "execution_count": 6,
     "metadata": {},
     "output_type": "execute_result"
    }
   ],
   "execution_count": 6
  },
  {
   "metadata": {
    "ExecuteTime": {
     "end_time": "2024-11-24T18:58:05.409615Z",
     "start_time": "2024-11-24T18:58:05.405888Z"
    }
   },
   "cell_type": "code",
   "source": "c.value",
   "id": "10b3cded36c2d6e9",
   "outputs": [
    {
     "data": {
      "text/plain": [
       "array([[-2.08089822,  0.16127793],\n",
       "       [ 0.11667582, -0.40733196]])"
      ]
     },
     "execution_count": 7,
     "metadata": {},
     "output_type": "execute_result"
    }
   ],
   "execution_count": 7
  },
  {
   "metadata": {
    "ExecuteTime": {
     "end_time": "2024-11-24T18:58:05.522162Z",
     "start_time": "2024-11-24T18:58:05.518386Z"
    }
   },
   "cell_type": "code",
   "source": "c.source",
   "id": "cba0529c5818ea17",
   "outputs": [
    {
     "data": {
      "text/plain": [
       "<vugrad.core.OpNode at 0x22767597530>"
      ]
     },
     "execution_count": 8,
     "metadata": {},
     "output_type": "execute_result"
    }
   ],
   "execution_count": 8
  },
  {
   "metadata": {
    "ExecuteTime": {
     "end_time": "2024-11-24T18:58:05.660482Z",
     "start_time": "2024-11-24T18:58:05.656980Z"
    }
   },
   "cell_type": "code",
   "source": "c.source.inputs[0]",
   "id": "ecba64b38683e84c",
   "outputs": [
    {
     "data": {
      "text/plain": [
       "<vugrad.core.TensorNode at 0x227675951f0>"
      ]
     },
     "execution_count": 9,
     "metadata": {},
     "output_type": "execute_result"
    }
   ],
   "execution_count": 9
  },
  {
   "metadata": {
    "ExecuteTime": {
     "end_time": "2024-11-24T18:58:05.731345Z",
     "start_time": "2024-11-24T18:58:05.727671Z"
    }
   },
   "cell_type": "code",
   "source": "a",
   "id": "fcc8a263f1c123eb",
   "outputs": [
    {
     "data": {
      "text/plain": [
       "<vugrad.core.TensorNode at 0x227675951f0>"
      ]
     },
     "execution_count": 10,
     "metadata": {},
     "output_type": "execute_result"
    }
   ],
   "execution_count": 10
  },
  {
   "metadata": {
    "ExecuteTime": {
     "end_time": "2024-11-24T18:58:05.756057Z",
     "start_time": "2024-11-24T18:58:05.752722Z"
    }
   },
   "cell_type": "code",
   "source": "a.grad",
   "id": "1ce840bb0660a963",
   "outputs": [
    {
     "data": {
      "text/plain": [
       "array([[0., 0.],\n",
       "       [0., 0.]])"
      ]
     },
     "execution_count": 11,
     "metadata": {},
     "output_type": "execute_result"
    }
   ],
   "execution_count": 11
  },
  {
   "metadata": {
    "ExecuteTime": {
     "end_time": "2024-11-24T18:58:05.785986Z",
     "start_time": "2024-11-24T18:58:05.783022Z"
    }
   },
   "cell_type": "code",
   "source": "c = b + a",
   "id": "52b1ddb305df2a8b",
   "outputs": [],
   "execution_count": 12
  },
  {
   "metadata": {
    "ExecuteTime": {
     "end_time": "2024-11-24T18:58:05.845104Z",
     "start_time": "2024-11-24T18:58:05.841720Z"
    }
   },
   "cell_type": "code",
   "source": "c.source.inputs[0]",
   "id": "68e793b48112b1fb",
   "outputs": [
    {
     "data": {
      "text/plain": [
       "<vugrad.core.TensorNode at 0x22767596840>"
      ]
     },
     "execution_count": 13,
     "metadata": {},
     "output_type": "execute_result"
    }
   ],
   "execution_count": 13
  },
  {
   "metadata": {
    "ExecuteTime": {
     "end_time": "2024-11-24T18:58:05.890747Z",
     "start_time": "2024-11-24T18:58:05.887298Z"
    }
   },
   "cell_type": "code",
   "source": "b",
   "id": "b035c8ead87486ef",
   "outputs": [
    {
     "data": {
      "text/plain": [
       "<vugrad.core.TensorNode at 0x22767596840>"
      ]
     },
     "execution_count": 14,
     "metadata": {},
     "output_type": "execute_result"
    }
   ],
   "execution_count": 14
  },
  {
   "metadata": {
    "ExecuteTime": {
     "end_time": "2024-11-24T18:58:05.927643Z",
     "start_time": "2024-11-24T18:58:05.924049Z"
    }
   },
   "cell_type": "code",
   "source": [
    "x = np.array([[1, 2], [3, 4], [5, 6]])\n",
    "sumd = x.sum(axis=1, keepdims=True)"
   ],
   "id": "67498d7192f0e28e",
   "outputs": [],
   "execution_count": 15
  },
  {
   "metadata": {
    "ExecuteTime": {
     "end_time": "2024-11-24T18:58:05.940168Z",
     "start_time": "2024-11-24T18:58:05.937234Z"
    }
   },
   "cell_type": "code",
   "source": "sumd",
   "id": "970e66a1523bd75e",
   "outputs": [
    {
     "data": {
      "text/plain": [
       "array([[ 3],\n",
       "       [ 7],\n",
       "       [11]])"
      ]
     },
     "execution_count": 16,
     "metadata": {},
     "output_type": "execute_result"
    }
   ],
   "execution_count": 16
  },
  {
   "metadata": {
    "ExecuteTime": {
     "end_time": "2024-11-24T18:58:05.973185Z",
     "start_time": "2024-11-24T18:58:05.968660Z"
    }
   },
   "cell_type": "code",
   "source": "x/sumd",
   "id": "c5b096f9b7791181",
   "outputs": [
    {
     "data": {
      "text/plain": [
       "array([[0.33333333, 0.66666667],\n",
       "       [0.42857143, 0.57142857],\n",
       "       [0.45454545, 0.54545455]])"
      ]
     },
     "execution_count": 17,
     "metadata": {},
     "output_type": "execute_result"
    }
   ],
   "execution_count": 17
  },
  {
   "metadata": {
    "ExecuteTime": {
     "end_time": "2024-11-24T18:58:06.037752Z",
     "start_time": "2024-11-24T18:58:06.033785Z"
    }
   },
   "cell_type": "code",
   "source": [
    "sumd2 = sumd * sumd\n",
    "sumd2"
   ],
   "id": "4eb7811cc78e3531",
   "outputs": [
    {
     "data": {
      "text/plain": [
       "array([[  9],\n",
       "       [ 49],\n",
       "       [121]])"
      ]
     },
     "execution_count": 18,
     "metadata": {},
     "output_type": "execute_result"
    }
   ],
   "execution_count": 18
  },
  {
   "metadata": {
    "ExecuteTime": {
     "end_time": "2024-11-24T18:58:06.129706Z",
     "start_time": "2024-11-24T18:58:06.127145Z"
    }
   },
   "cell_type": "code",
   "source": "x/sumd2",
   "id": "7811d1d76d25aee9",
   "outputs": [
    {
     "data": {
      "text/plain": [
       "array([[0.11111111, 0.22222222],\n",
       "       [0.06122449, 0.08163265],\n",
       "       [0.04132231, 0.04958678]])"
      ]
     },
     "execution_count": 19,
     "metadata": {},
     "output_type": "execute_result"
    }
   ],
   "execution_count": 19
  },
  {
   "metadata": {
    "ExecuteTime": {
     "end_time": "2024-11-24T18:59:59.544699Z",
     "start_time": "2024-11-24T18:59:59.540690Z"
    }
   },
   "cell_type": "code",
   "source": [
    "def draw_plot_two_datasets(model_1, model_2, model_1_desc_label, model_2_desc_label, y_label, title):\n",
    "    train_loss_array = np.array(model_1)\n",
    "    val_loss_array = np.array(model_2)\n",
    "\n",
    "    epochs = len(model_1[0]) if len(model_1) > 0 else 0\n",
    "    t = np.arange(epochs)\n",
    "\n",
    "    mu_train = train_loss_array.mean(axis=0)\n",
    "    sigma_train = train_loss_array.std(axis=0)\n",
    "    mu_val = val_loss_array.mean(axis=0)\n",
    "    sigma_val = val_loss_array.std(axis=0)\n",
    "\n",
    "    fig, ax = plt.subplots(1)\n",
    "\n",
    "    ax.plot(t, mu_train, lw=2, label=model_1_desc_label, color='blue')\n",
    "    ax.fill_between(t, mu_train + sigma_train, mu_train - sigma_train, facecolor='blue', alpha=0.3)\n",
    "\n",
    "    ax.plot(t, mu_val, lw=2, label=model_2_desc_label, color='red')\n",
    "    ax.fill_between(t, mu_val + sigma_val, mu_val - sigma_val, facecolor='red', alpha=0.3)\n",
    "\n",
    "    # ax.set_title('Training & Validation Loss Mean and ± Standard Deviation Interval')\n",
    "    ax.set_title(title)\n",
    "    ax.legend(loc='upper right')\n",
    "    ax.set_xlabel('Epochs')\n",
    "    ax.set_ylabel(y_label)\n",
    "    ax.grid()\n",
    "\n",
    "    plt.show()"
   ],
   "id": "ee7a5690667b31fe",
   "outputs": [],
   "execution_count": 22
  },
  {
   "metadata": {},
   "cell_type": "code",
   "outputs": [],
   "execution_count": null,
   "source": "",
   "id": "cab026769271387"
  }
 ],
 "metadata": {
  "kernelspec": {
   "display_name": "Python 3",
   "language": "python",
   "name": "python3"
  },
  "language_info": {
   "codemirror_mode": {
    "name": "ipython",
    "version": 2
   },
   "file_extension": ".py",
   "mimetype": "text/x-python",
   "name": "python",
   "nbconvert_exporter": "python",
   "pygments_lexer": "ipython2",
   "version": "2.7.6"
  }
 },
 "nbformat": 4,
 "nbformat_minor": 5
}
