{
 "cells": [
  {
   "cell_type": "code",
   "id": "initial_id",
   "metadata": {
    "collapsed": true,
    "ExecuteTime": {
     "end_time": "2024-11-29T20:50:32.636188Z",
     "start_time": "2024-11-29T20:50:30.306538Z"
    }
   },
   "source": [
    "import torch\n",
    "import torchvision\n",
    "import torchvision.transforms as transforms\n",
    "import torch.nn as nn\n",
    "import torch.optim as optim\n",
    "import json\n",
    "from itertools import product\n",
    "import time\n",
    "\n",
    "\n",
    "# Define Modified Network (Batch Norm + Residual Connections)\n",
    "class ModifiedNet(nn.Module):\n",
    "    def __init__(self):\n",
    "        super(ModifiedNet, self).__init__()\n",
    "        self.conv1 = nn.Conv2d(3, 16, 3)\n",
    "        self.bn1 = nn.BatchNorm2d(16)\n",
    "        self.conv2 = nn.Conv2d(16, 32, 3)\n",
    "        self.bn2 = nn.BatchNorm2d(32)\n",
    "        self.conv3 = nn.Conv2d(32, 32, 3)\n",
    "        self.bn3 = nn.BatchNorm2d(32)\n",
    "        self.pool = nn.MaxPool2d(2, 2)\n",
    "        self.fc1 = nn.Linear(32 * 2 * 2, 120)\n",
    "        self.fc2 = nn.Linear(120, 84)\n",
    "        self.fc3 = nn.Linear(84, 10)\n",
    "\n",
    "    def forward(self, x):\n",
    "        residual = x\n",
    "        x = self.pool(torch.relu(self.bn1(self.conv1(x))))\n",
    "        residual = self.pool(self.bn1(self.conv1(residual)))\n",
    "        x = x + residual\n",
    "        residual = x\n",
    "        x = self.pool(torch.relu(self.bn2(self.conv2(x))))\n",
    "        residual = self.pool(self.bn2(self.conv2(residual)))\n",
    "        x = x + residual\n",
    "        x = self.pool(torch.relu(self.bn3(self.conv3(x))))\n",
    "        x = torch.flatten(x, 1)\n",
    "        x = torch.relu(self.fc1(x))\n",
    "        x = torch.relu(self.fc2(x))\n",
    "        x = self.fc3(x)\n",
    "        return x\n",
    "\n",
    "\n",
    "# Load the CIFAR-10 dataset\n",
    "def get_dataloaders(batch_size):\n",
    "    transform = transforms.Compose(\n",
    "        [transforms.ToTensor(),\n",
    "         transforms.Normalize((0.5, 0.5, 0.5), (0.5, 0.5, 0.5))])\n",
    "\n",
    "    trainset = torchvision.datasets.CIFAR10(\n",
    "        root='./data', train=True, download=True, transform=transform)\n",
    "    trainloader = torch.utils.data.DataLoader(\n",
    "        trainset, batch_size=batch_size, shuffle=True, num_workers=2)\n",
    "\n",
    "    testset = torchvision.datasets.CIFAR10(\n",
    "        root='./data', train=False, download=True, transform=transform)\n",
    "    testloader = torch.utils.data.DataLoader(\n",
    "        testset, batch_size=batch_size, shuffle=False, num_workers=2)\n",
    "\n",
    "    return trainloader, testloader\n",
    "\n",
    "\n",
    "# Train and Evaluate the Model\n",
    "def train_and_evaluate(net, trainloader, testloader, optimizer, criterion, epochs, device, classes):\n",
    "    net.to(device)\n",
    "    train_loss = []\n",
    "\n",
    "    for epoch in range(epochs):\n",
    "        running_loss = 0.0\n",
    "        net.train()\n",
    "        for inputs, labels in trainloader:\n",
    "            inputs, labels = inputs.to(device), labels.to(device)\n",
    "            labels_one_hot = torch.nn.functional.one_hot(labels, num_classes=len(classes)).float()\n",
    "\n",
    "            optimizer.zero_grad()\n",
    "            outputs = net(inputs)\n",
    "            loss = criterion(outputs, labels_one_hot)\n",
    "            loss.backward()\n",
    "            optimizer.step()\n",
    "\n",
    "            running_loss += loss.item()\n",
    "\n",
    "        train_loss.append(running_loss / len(trainloader))\n",
    "\n",
    "    # Evaluate on validation set\n",
    "    net.eval()\n",
    "    correct = 0\n",
    "    total = 0\n",
    "    class_correct = [0 for _ in range(len(classes))]\n",
    "    class_total = [0 for _ in range(len(classes))]\n",
    "\n",
    "    with torch.no_grad():\n",
    "        for inputs, labels in testloader:\n",
    "            inputs, labels = inputs.to(device), labels.to(device)\n",
    "            outputs = net(inputs)\n",
    "            _, predicted = torch.max(outputs, 1)\n",
    "            total += labels.size(0)\n",
    "            correct += (predicted == labels).sum().item()\n",
    "\n",
    "            for i in range(len(labels)):\n",
    "                label = labels[i]\n",
    "                pred = predicted[i]\n",
    "                if label == pred:\n",
    "                    class_correct[label] += 1\n",
    "                class_total[label] += 1\n",
    "\n",
    "    overall_accuracy = 100 * correct / total\n",
    "    per_class_accuracy = {classes[i]: 100 * class_correct[i] / class_total[i] if class_total[i] > 0 else 0\n",
    "                          for i in range(len(classes))}\n",
    "\n",
    "    return train_loss, overall_accuracy, per_class_accuracy"
   ],
   "outputs": [],
   "execution_count": 1
  },
  {
   "metadata": {
    "ExecuteTime": {
     "end_time": "2024-11-30T00:07:22.448825Z",
     "start_time": "2024-11-29T20:53:44.810560Z"
    }
   },
   "cell_type": "code",
   "source": [
    "import optuna\n",
    "results = []\n",
    "# Define an objective function to be minimized.\n",
    "def objective(trial):\n",
    "    net = ModifiedNet()\n",
    "    epochs = trial.suggest_categorical('epochs', [20, 25, 30])\n",
    "    batch_size = trial.suggest_categorical('batch_size', [64, 128])\n",
    "    lr = trial.suggest_float('learning_rate', 1e-4, 1e-2, log=True)\n",
    "    optimizer_type = trial.suggest_categorical('optimizer', ['Adam'])\n",
    "    optimizer = optim.SGD(net.parameters(), lr=lr, momentum=0.9)\n",
    "    if optimizer_type == 'SGD':\n",
    "        optimizer = optim.SGD(net.parameters(), lr=lr, momentum=0.9)\n",
    "    elif optimizer_type == 'Adam':\n",
    "        optimizer = optim.Adam(net.parameters(), lr=lr)\n",
    "    trainloader, testloader = get_dataloaders(batch_size)\n",
    "    criterion = nn.CrossEntropyLoss()\n",
    "    device = torch.device(\"cuda\" if torch.cuda.is_available() else \"cpu\")\n",
    "    classes = ('plane', 'car', 'bird', 'cat', 'deer', 'dog', 'frog', 'horse', 'ship', 'truck')\n",
    "    print(f\"Running experiment: lr={lr}, batch_size={batch_size}, optimizer={optimizer_type}, \"\n",
    "          f\"loss_function={'CrossEntropy'}, architecture={'ModifiedNet'}, epochs={epochs}\")\n",
    "    start_time = time.time()\n",
    "    train_loss, overall_accuracy, per_class_accuracy = train_and_evaluate(\n",
    "        net, trainloader, testloader, optimizer, criterion, epochs, device, classes)\n",
    "    end_time = time.time()\n",
    "\n",
    "    acc = overall_accuracy\n",
    "    results.append({\n",
    "        'learning_rate': lr,\n",
    "        'batch_size': batch_size,\n",
    "        'optimizer': optimizer_type,\n",
    "        'loss_function': 'CrossEntropy',\n",
    "        'architecture': 'ModifiedNet',\n",
    "        'epochs': epochs,\n",
    "        'train_loss': train_loss,\n",
    "        'overall_accuracy': overall_accuracy,\n",
    "        'per_class_accuracy': per_class_accuracy,\n",
    "        'time_taken': end_time - start_time\n",
    "    })\n",
    "\n",
    "    return acc  # An objective value linked with the Trial object.\n",
    "\n",
    "study = optuna.create_study(direction=\"maximize\")  # Create a new study.\n",
    "study.optimize(objective, n_trials=50)  # Invoke optimization of the objective function."
   ],
   "id": "1628f12145c68ad6",
   "outputs": [
    {
     "name": "stderr",
     "output_type": "stream",
     "text": [
      "[I 2024-11-29 21:53:44,906] A new study created in memory with name: no-name-f8a77320-671d-437d-894d-ba07f7e078dd\n"
     ]
    },
    {
     "name": "stdout",
     "output_type": "stream",
     "text": [
      "Files already downloaded and verified\n",
      "Files already downloaded and verified\n",
      "Running experiment: lr=0.00011536404620534518, batch_size=128, optimizer=Adam, loss_function=CrossEntropy, architecture=ModifiedNet, epochs=20\n"
     ]
    },
    {
     "name": "stderr",
     "output_type": "stream",
     "text": [
      "[I 2024-11-29 21:57:18,204] Trial 0 finished with value: 64.94 and parameters: {'epochs': 20, 'batch_size': 128, 'learning_rate': 0.00011536404620534518, 'optimizer': 'Adam'}. Best is trial 0 with value: 64.94.\n"
     ]
    },
    {
     "name": "stdout",
     "output_type": "stream",
     "text": [
      "Files already downloaded and verified\n",
      "Files already downloaded and verified\n",
      "Running experiment: lr=0.004161511902508829, batch_size=128, optimizer=Adam, loss_function=CrossEntropy, architecture=ModifiedNet, epochs=30\n"
     ]
    },
    {
     "name": "stderr",
     "output_type": "stream",
     "text": [
      "[I 2024-11-29 22:02:17,367] Trial 1 finished with value: 71.34 and parameters: {'epochs': 30, 'batch_size': 128, 'learning_rate': 0.004161511902508829, 'optimizer': 'Adam'}. Best is trial 1 with value: 71.34.\n"
     ]
    },
    {
     "name": "stdout",
     "output_type": "stream",
     "text": [
      "Files already downloaded and verified\n",
      "Files already downloaded and verified\n",
      "Running experiment: lr=0.0007999932073798487, batch_size=64, optimizer=Adam, loss_function=CrossEntropy, architecture=ModifiedNet, epochs=30\n"
     ]
    },
    {
     "name": "stderr",
     "output_type": "stream",
     "text": [
      "[I 2024-11-29 22:07:22,477] Trial 2 finished with value: 71.89 and parameters: {'epochs': 30, 'batch_size': 64, 'learning_rate': 0.0007999932073798487, 'optimizer': 'Adam'}. Best is trial 2 with value: 71.89.\n"
     ]
    },
    {
     "name": "stdout",
     "output_type": "stream",
     "text": [
      "Files already downloaded and verified\n",
      "Files already downloaded and verified\n",
      "Running experiment: lr=0.0010661747700592987, batch_size=128, optimizer=Adam, loss_function=CrossEntropy, architecture=ModifiedNet, epochs=25\n"
     ]
    },
    {
     "name": "stderr",
     "output_type": "stream",
     "text": [
      "[I 2024-11-29 22:11:04,328] Trial 3 finished with value: 71.72 and parameters: {'epochs': 25, 'batch_size': 128, 'learning_rate': 0.0010661747700592987, 'optimizer': 'Adam'}. Best is trial 2 with value: 71.89.\n"
     ]
    },
    {
     "name": "stdout",
     "output_type": "stream",
     "text": [
      "Files already downloaded and verified\n",
      "Files already downloaded and verified\n",
      "Running experiment: lr=0.0013281407947945527, batch_size=128, optimizer=Adam, loss_function=CrossEntropy, architecture=ModifiedNet, epochs=25\n"
     ]
    },
    {
     "name": "stderr",
     "output_type": "stream",
     "text": [
      "[I 2024-11-29 22:15:25,016] Trial 4 finished with value: 70.56 and parameters: {'epochs': 25, 'batch_size': 128, 'learning_rate': 0.0013281407947945527, 'optimizer': 'Adam'}. Best is trial 2 with value: 71.89.\n"
     ]
    },
    {
     "name": "stdout",
     "output_type": "stream",
     "text": [
      "Files already downloaded and verified\n",
      "Files already downloaded and verified\n",
      "Running experiment: lr=0.001286966337840659, batch_size=64, optimizer=Adam, loss_function=CrossEntropy, architecture=ModifiedNet, epochs=20\n"
     ]
    },
    {
     "name": "stderr",
     "output_type": "stream",
     "text": [
      "[I 2024-11-29 22:18:47,935] Trial 5 finished with value: 71.53 and parameters: {'epochs': 20, 'batch_size': 64, 'learning_rate': 0.001286966337840659, 'optimizer': 'Adam'}. Best is trial 2 with value: 71.89.\n"
     ]
    },
    {
     "name": "stdout",
     "output_type": "stream",
     "text": [
      "Files already downloaded and verified\n",
      "Files already downloaded and verified\n",
      "Running experiment: lr=0.00023980651130074647, batch_size=128, optimizer=Adam, loss_function=CrossEntropy, architecture=ModifiedNet, epochs=20\n"
     ]
    },
    {
     "name": "stderr",
     "output_type": "stream",
     "text": [
      "[I 2024-11-29 22:21:43,926] Trial 6 finished with value: 67.94 and parameters: {'epochs': 20, 'batch_size': 128, 'learning_rate': 0.00023980651130074647, 'optimizer': 'Adam'}. Best is trial 2 with value: 71.89.\n"
     ]
    },
    {
     "name": "stdout",
     "output_type": "stream",
     "text": [
      "Files already downloaded and verified\n",
      "Files already downloaded and verified\n",
      "Running experiment: lr=0.001075999255695234, batch_size=128, optimizer=Adam, loss_function=CrossEntropy, architecture=ModifiedNet, epochs=20\n"
     ]
    },
    {
     "name": "stderr",
     "output_type": "stream",
     "text": [
      "[I 2024-11-29 22:24:13,760] Trial 7 finished with value: 70.08 and parameters: {'epochs': 20, 'batch_size': 128, 'learning_rate': 0.001075999255695234, 'optimizer': 'Adam'}. Best is trial 2 with value: 71.89.\n"
     ]
    },
    {
     "name": "stdout",
     "output_type": "stream",
     "text": [
      "Files already downloaded and verified\n",
      "Files already downloaded and verified\n",
      "Running experiment: lr=0.0036531313345191663, batch_size=128, optimizer=Adam, loss_function=CrossEntropy, architecture=ModifiedNet, epochs=25\n"
     ]
    },
    {
     "name": "stderr",
     "output_type": "stream",
     "text": [
      "[I 2024-11-29 22:27:30,228] Trial 8 finished with value: 71.7 and parameters: {'epochs': 25, 'batch_size': 128, 'learning_rate': 0.0036531313345191663, 'optimizer': 'Adam'}. Best is trial 2 with value: 71.89.\n"
     ]
    },
    {
     "name": "stdout",
     "output_type": "stream",
     "text": [
      "Files already downloaded and verified\n",
      "Files already downloaded and verified\n",
      "Running experiment: lr=0.00018457577521519846, batch_size=128, optimizer=Adam, loss_function=CrossEntropy, architecture=ModifiedNet, epochs=30\n"
     ]
    },
    {
     "name": "stderr",
     "output_type": "stream",
     "text": [
      "[I 2024-11-29 22:31:20,818] Trial 9 finished with value: 67.9 and parameters: {'epochs': 30, 'batch_size': 128, 'learning_rate': 0.00018457577521519846, 'optimizer': 'Adam'}. Best is trial 2 with value: 71.89.\n"
     ]
    },
    {
     "name": "stdout",
     "output_type": "stream",
     "text": [
      "Files already downloaded and verified\n",
      "Files already downloaded and verified\n",
      "Running experiment: lr=0.00038823781233248187, batch_size=64, optimizer=Adam, loss_function=CrossEntropy, architecture=ModifiedNet, epochs=30\n"
     ]
    },
    {
     "name": "stderr",
     "output_type": "stream",
     "text": [
      "[I 2024-11-29 22:35:39,505] Trial 10 finished with value: 70.77 and parameters: {'epochs': 30, 'batch_size': 64, 'learning_rate': 0.00038823781233248187, 'optimizer': 'Adam'}. Best is trial 2 with value: 71.89.\n"
     ]
    },
    {
     "name": "stdout",
     "output_type": "stream",
     "text": [
      "Files already downloaded and verified\n",
      "Files already downloaded and verified\n",
      "Running experiment: lr=0.0005381002073363689, batch_size=64, optimizer=Adam, loss_function=CrossEntropy, architecture=ModifiedNet, epochs=25\n"
     ]
    },
    {
     "name": "stderr",
     "output_type": "stream",
     "text": [
      "[I 2024-11-29 22:39:12,713] Trial 11 finished with value: 71.41 and parameters: {'epochs': 25, 'batch_size': 64, 'learning_rate': 0.0005381002073363689, 'optimizer': 'Adam'}. Best is trial 2 with value: 71.89.\n"
     ]
    },
    {
     "name": "stdout",
     "output_type": "stream",
     "text": [
      "Files already downloaded and verified\n",
      "Files already downloaded and verified\n",
      "Running experiment: lr=0.002382157118400784, batch_size=64, optimizer=Adam, loss_function=CrossEntropy, architecture=ModifiedNet, epochs=30\n"
     ]
    },
    {
     "name": "stderr",
     "output_type": "stream",
     "text": [
      "[I 2024-11-29 22:43:28,194] Trial 12 finished with value: 71.41 and parameters: {'epochs': 30, 'batch_size': 64, 'learning_rate': 0.002382157118400784, 'optimizer': 'Adam'}. Best is trial 2 with value: 71.89.\n"
     ]
    },
    {
     "name": "stdout",
     "output_type": "stream",
     "text": [
      "Files already downloaded and verified\n",
      "Files already downloaded and verified\n",
      "Running experiment: lr=0.008365755292660586, batch_size=64, optimizer=Adam, loss_function=CrossEntropy, architecture=ModifiedNet, epochs=25\n"
     ]
    },
    {
     "name": "stderr",
     "output_type": "stream",
     "text": [
      "[I 2024-11-29 22:47:00,567] Trial 13 finished with value: 70.41 and parameters: {'epochs': 25, 'batch_size': 64, 'learning_rate': 0.008365755292660586, 'optimizer': 'Adam'}. Best is trial 2 with value: 71.89.\n"
     ]
    },
    {
     "name": "stdout",
     "output_type": "stream",
     "text": [
      "Files already downloaded and verified\n",
      "Files already downloaded and verified\n",
      "Running experiment: lr=0.0006029926124965826, batch_size=64, optimizer=Adam, loss_function=CrossEntropy, architecture=ModifiedNet, epochs=30\n"
     ]
    },
    {
     "name": "stderr",
     "output_type": "stream",
     "text": [
      "[I 2024-11-29 22:51:13,609] Trial 14 finished with value: 71.02 and parameters: {'epochs': 30, 'batch_size': 64, 'learning_rate': 0.0006029926124965826, 'optimizer': 'Adam'}. Best is trial 2 with value: 71.89.\n"
     ]
    },
    {
     "name": "stdout",
     "output_type": "stream",
     "text": [
      "Files already downloaded and verified\n",
      "Files already downloaded and verified\n",
      "Running experiment: lr=0.0019236749280694097, batch_size=64, optimizer=Adam, loss_function=CrossEntropy, architecture=ModifiedNet, epochs=25\n"
     ]
    },
    {
     "name": "stderr",
     "output_type": "stream",
     "text": [
      "[I 2024-11-29 22:54:46,321] Trial 15 finished with value: 71.36 and parameters: {'epochs': 25, 'batch_size': 64, 'learning_rate': 0.0019236749280694097, 'optimizer': 'Adam'}. Best is trial 2 with value: 71.89.\n"
     ]
    },
    {
     "name": "stdout",
     "output_type": "stream",
     "text": [
      "Files already downloaded and verified\n",
      "Files already downloaded and verified\n",
      "Running experiment: lr=0.0006882762999128331, batch_size=128, optimizer=Adam, loss_function=CrossEntropy, architecture=ModifiedNet, epochs=25\n"
     ]
    },
    {
     "name": "stderr",
     "output_type": "stream",
     "text": [
      "[I 2024-11-29 22:57:52,038] Trial 16 finished with value: 70.14 and parameters: {'epochs': 25, 'batch_size': 128, 'learning_rate': 0.0006882762999128331, 'optimizer': 'Adam'}. Best is trial 2 with value: 71.89.\n"
     ]
    },
    {
     "name": "stdout",
     "output_type": "stream",
     "text": [
      "Files already downloaded and verified\n",
      "Files already downloaded and verified\n",
      "Running experiment: lr=0.00032509614278980405, batch_size=64, optimizer=Adam, loss_function=CrossEntropy, architecture=ModifiedNet, epochs=30\n"
     ]
    },
    {
     "name": "stderr",
     "output_type": "stream",
     "text": [
      "[I 2024-11-29 23:02:06,066] Trial 17 finished with value: 70.51 and parameters: {'epochs': 30, 'batch_size': 64, 'learning_rate': 0.00032509614278980405, 'optimizer': 'Adam'}. Best is trial 2 with value: 71.89.\n"
     ]
    },
    {
     "name": "stdout",
     "output_type": "stream",
     "text": [
      "Files already downloaded and verified\n",
      "Files already downloaded and verified\n",
      "Running experiment: lr=0.0007794525006926707, batch_size=128, optimizer=Adam, loss_function=CrossEntropy, architecture=ModifiedNet, epochs=25\n"
     ]
    },
    {
     "name": "stderr",
     "output_type": "stream",
     "text": [
      "[I 2024-11-29 23:05:13,997] Trial 18 finished with value: 71.54 and parameters: {'epochs': 25, 'batch_size': 128, 'learning_rate': 0.0007794525006926707, 'optimizer': 'Adam'}. Best is trial 2 with value: 71.89.\n"
     ]
    },
    {
     "name": "stdout",
     "output_type": "stream",
     "text": [
      "Files already downloaded and verified\n",
      "Files already downloaded and verified\n",
      "Running experiment: lr=0.00208525464333336, batch_size=64, optimizer=Adam, loss_function=CrossEntropy, architecture=ModifiedNet, epochs=30\n"
     ]
    },
    {
     "name": "stderr",
     "output_type": "stream",
     "text": [
      "[I 2024-11-29 23:09:29,757] Trial 19 finished with value: 71.11 and parameters: {'epochs': 30, 'batch_size': 64, 'learning_rate': 0.00208525464333336, 'optimizer': 'Adam'}. Best is trial 2 with value: 71.89.\n"
     ]
    },
    {
     "name": "stdout",
     "output_type": "stream",
     "text": [
      "Files already downloaded and verified\n",
      "Files already downloaded and verified\n",
      "Running experiment: lr=0.0061855579141964975, batch_size=64, optimizer=Adam, loss_function=CrossEntropy, architecture=ModifiedNet, epochs=30\n"
     ]
    },
    {
     "name": "stderr",
     "output_type": "stream",
     "text": [
      "[I 2024-11-29 23:15:14,957] Trial 20 finished with value: 71.47 and parameters: {'epochs': 30, 'batch_size': 64, 'learning_rate': 0.0061855579141964975, 'optimizer': 'Adam'}. Best is trial 2 with value: 71.89.\n"
     ]
    },
    {
     "name": "stdout",
     "output_type": "stream",
     "text": [
      "Files already downloaded and verified\n",
      "Files already downloaded and verified\n",
      "Running experiment: lr=0.0036745574899460505, batch_size=128, optimizer=Adam, loss_function=CrossEntropy, architecture=ModifiedNet, epochs=25\n"
     ]
    },
    {
     "name": "stderr",
     "output_type": "stream",
     "text": [
      "[I 2024-11-29 23:19:32,023] Trial 21 finished with value: 70.03 and parameters: {'epochs': 25, 'batch_size': 128, 'learning_rate': 0.0036745574899460505, 'optimizer': 'Adam'}. Best is trial 2 with value: 71.89.\n"
     ]
    },
    {
     "name": "stdout",
     "output_type": "stream",
     "text": [
      "Files already downloaded and verified\n",
      "Files already downloaded and verified\n",
      "Running experiment: lr=0.00395261064364833, batch_size=128, optimizer=Adam, loss_function=CrossEntropy, architecture=ModifiedNet, epochs=25\n"
     ]
    },
    {
     "name": "stderr",
     "output_type": "stream",
     "text": [
      "[I 2024-11-29 23:23:31,173] Trial 22 finished with value: 71.34 and parameters: {'epochs': 25, 'batch_size': 128, 'learning_rate': 0.00395261064364833, 'optimizer': 'Adam'}. Best is trial 2 with value: 71.89.\n"
     ]
    },
    {
     "name": "stdout",
     "output_type": "stream",
     "text": [
      "Files already downloaded and verified\n",
      "Files already downloaded and verified\n",
      "Running experiment: lr=0.0016280308541185957, batch_size=128, optimizer=Adam, loss_function=CrossEntropy, architecture=ModifiedNet, epochs=25\n"
     ]
    },
    {
     "name": "stderr",
     "output_type": "stream",
     "text": [
      "[I 2024-11-29 23:28:03,703] Trial 23 finished with value: 70.67 and parameters: {'epochs': 25, 'batch_size': 128, 'learning_rate': 0.0016280308541185957, 'optimizer': 'Adam'}. Best is trial 2 with value: 71.89.\n"
     ]
    },
    {
     "name": "stdout",
     "output_type": "stream",
     "text": [
      "Files already downloaded and verified\n",
      "Files already downloaded and verified\n",
      "Running experiment: lr=0.0028212701239468695, batch_size=128, optimizer=Adam, loss_function=CrossEntropy, architecture=ModifiedNet, epochs=25\n"
     ]
    },
    {
     "name": "stderr",
     "output_type": "stream",
     "text": [
      "[I 2024-11-29 23:32:36,379] Trial 24 finished with value: 71.07 and parameters: {'epochs': 25, 'batch_size': 128, 'learning_rate': 0.0028212701239468695, 'optimizer': 'Adam'}. Best is trial 2 with value: 71.89.\n"
     ]
    },
    {
     "name": "stdout",
     "output_type": "stream",
     "text": [
      "Files already downloaded and verified\n",
      "Files already downloaded and verified\n",
      "Running experiment: lr=0.0008550907804591676, batch_size=128, optimizer=Adam, loss_function=CrossEntropy, architecture=ModifiedNet, epochs=25\n"
     ]
    },
    {
     "name": "stderr",
     "output_type": "stream",
     "text": [
      "[I 2024-11-29 23:37:10,599] Trial 25 finished with value: 71.37 and parameters: {'epochs': 25, 'batch_size': 128, 'learning_rate': 0.0008550907804591676, 'optimizer': 'Adam'}. Best is trial 2 with value: 71.89.\n"
     ]
    },
    {
     "name": "stdout",
     "output_type": "stream",
     "text": [
      "Files already downloaded and verified\n",
      "Files already downloaded and verified\n",
      "Running experiment: lr=0.0003791972469071851, batch_size=128, optimizer=Adam, loss_function=CrossEntropy, architecture=ModifiedNet, epochs=25\n"
     ]
    },
    {
     "name": "stderr",
     "output_type": "stream",
     "text": [
      "[I 2024-11-29 23:41:46,828] Trial 26 finished with value: 69.96 and parameters: {'epochs': 25, 'batch_size': 128, 'learning_rate': 0.0003791972469071851, 'optimizer': 'Adam'}. Best is trial 2 with value: 71.89.\n"
     ]
    },
    {
     "name": "stdout",
     "output_type": "stream",
     "text": [
      "Files already downloaded and verified\n",
      "Files already downloaded and verified\n",
      "Running experiment: lr=0.008332637567035226, batch_size=128, optimizer=Adam, loss_function=CrossEntropy, architecture=ModifiedNet, epochs=25\n"
     ]
    },
    {
     "name": "stderr",
     "output_type": "stream",
     "text": [
      "[I 2024-11-29 23:46:10,610] Trial 27 finished with value: 70.43 and parameters: {'epochs': 25, 'batch_size': 128, 'learning_rate': 0.008332637567035226, 'optimizer': 'Adam'}. Best is trial 2 with value: 71.89.\n"
     ]
    },
    {
     "name": "stdout",
     "output_type": "stream",
     "text": [
      "Files already downloaded and verified\n",
      "Files already downloaded and verified\n",
      "Running experiment: lr=0.005879330749048901, batch_size=64, optimizer=Adam, loss_function=CrossEntropy, architecture=ModifiedNet, epochs=20\n"
     ]
    },
    {
     "name": "stderr",
     "output_type": "stream",
     "text": [
      "[I 2024-11-29 23:49:50,943] Trial 28 finished with value: 69.97 and parameters: {'epochs': 20, 'batch_size': 64, 'learning_rate': 0.005879330749048901, 'optimizer': 'Adam'}. Best is trial 2 with value: 71.89.\n"
     ]
    },
    {
     "name": "stdout",
     "output_type": "stream",
     "text": [
      "Files already downloaded and verified\n",
      "Files already downloaded and verified\n",
      "Running experiment: lr=0.0001237132456924409, batch_size=128, optimizer=Adam, loss_function=CrossEntropy, architecture=ModifiedNet, epochs=30\n"
     ]
    },
    {
     "name": "stderr",
     "output_type": "stream",
     "text": [
      "[I 2024-11-29 23:54:53,245] Trial 29 finished with value: 68.25 and parameters: {'epochs': 30, 'batch_size': 128, 'learning_rate': 0.0001237132456924409, 'optimizer': 'Adam'}. Best is trial 2 with value: 71.89.\n"
     ]
    },
    {
     "name": "stdout",
     "output_type": "stream",
     "text": [
      "Files already downloaded and verified\n",
      "Files already downloaded and verified\n",
      "Running experiment: lr=0.0004871112117361418, batch_size=128, optimizer=Adam, loss_function=CrossEntropy, architecture=ModifiedNet, epochs=20\n"
     ]
    },
    {
     "name": "stderr",
     "output_type": "stream",
     "text": [
      "[I 2024-11-29 23:58:15,752] Trial 30 finished with value: 69.78 and parameters: {'epochs': 20, 'batch_size': 128, 'learning_rate': 0.0004871112117361418, 'optimizer': 'Adam'}. Best is trial 2 with value: 71.89.\n"
     ]
    },
    {
     "name": "stdout",
     "output_type": "stream",
     "text": [
      "Files already downloaded and verified\n",
      "Files already downloaded and verified\n",
      "Running experiment: lr=0.0008605064764997444, batch_size=128, optimizer=Adam, loss_function=CrossEntropy, architecture=ModifiedNet, epochs=25\n"
     ]
    },
    {
     "name": "stderr",
     "output_type": "stream",
     "text": [
      "[I 2024-11-30 00:02:29,861] Trial 31 finished with value: 70.99 and parameters: {'epochs': 25, 'batch_size': 128, 'learning_rate': 0.0008605064764997444, 'optimizer': 'Adam'}. Best is trial 2 with value: 71.89.\n"
     ]
    },
    {
     "name": "stdout",
     "output_type": "stream",
     "text": [
      "Files already downloaded and verified\n",
      "Files already downloaded and verified\n",
      "Running experiment: lr=0.0009045805809388452, batch_size=128, optimizer=Adam, loss_function=CrossEntropy, architecture=ModifiedNet, epochs=25\n"
     ]
    },
    {
     "name": "stderr",
     "output_type": "stream",
     "text": [
      "[I 2024-11-30 00:06:44,796] Trial 32 finished with value: 71.75 and parameters: {'epochs': 25, 'batch_size': 128, 'learning_rate': 0.0009045805809388452, 'optimizer': 'Adam'}. Best is trial 2 with value: 71.89.\n"
     ]
    },
    {
     "name": "stdout",
     "output_type": "stream",
     "text": [
      "Files already downloaded and verified\n",
      "Files already downloaded and verified\n",
      "Running experiment: lr=0.0011738595543238776, batch_size=128, optimizer=Adam, loss_function=CrossEntropy, architecture=ModifiedNet, epochs=25\n"
     ]
    },
    {
     "name": "stderr",
     "output_type": "stream",
     "text": [
      "[I 2024-11-30 00:10:53,387] Trial 33 finished with value: 71.65 and parameters: {'epochs': 25, 'batch_size': 128, 'learning_rate': 0.0011738595543238776, 'optimizer': 'Adam'}. Best is trial 2 with value: 71.89.\n"
     ]
    },
    {
     "name": "stdout",
     "output_type": "stream",
     "text": [
      "Files already downloaded and verified\n",
      "Files already downloaded and verified\n",
      "Running experiment: lr=0.0015332596471466589, batch_size=128, optimizer=Adam, loss_function=CrossEntropy, architecture=ModifiedNet, epochs=25\n"
     ]
    },
    {
     "name": "stderr",
     "output_type": "stream",
     "text": [
      "[I 2024-11-30 00:15:05,997] Trial 34 finished with value: 70.88 and parameters: {'epochs': 25, 'batch_size': 128, 'learning_rate': 0.0015332596471466589, 'optimizer': 'Adam'}. Best is trial 2 with value: 71.89.\n"
     ]
    },
    {
     "name": "stdout",
     "output_type": "stream",
     "text": [
      "Files already downloaded and verified\n",
      "Files already downloaded and verified\n",
      "Running experiment: lr=0.002794561139597144, batch_size=128, optimizer=Adam, loss_function=CrossEntropy, architecture=ModifiedNet, epochs=25\n"
     ]
    },
    {
     "name": "stderr",
     "output_type": "stream",
     "text": [
      "[I 2024-11-30 00:18:32,551] Trial 35 finished with value: 71.69 and parameters: {'epochs': 25, 'batch_size': 128, 'learning_rate': 0.002794561139597144, 'optimizer': 'Adam'}. Best is trial 2 with value: 71.89.\n"
     ]
    },
    {
     "name": "stdout",
     "output_type": "stream",
     "text": [
      "Files already downloaded and verified\n",
      "Files already downloaded and verified\n",
      "Running experiment: lr=0.0010374139710757583, batch_size=128, optimizer=Adam, loss_function=CrossEntropy, architecture=ModifiedNet, epochs=20\n"
     ]
    },
    {
     "name": "stderr",
     "output_type": "stream",
     "text": [
      "[I 2024-11-30 00:21:18,807] Trial 36 finished with value: 72.16 and parameters: {'epochs': 20, 'batch_size': 128, 'learning_rate': 0.0010374139710757583, 'optimizer': 'Adam'}. Best is trial 36 with value: 72.16.\n"
     ]
    },
    {
     "name": "stdout",
     "output_type": "stream",
     "text": [
      "Files already downloaded and verified\n",
      "Files already downloaded and verified\n",
      "Running experiment: lr=0.0010061820306782143, batch_size=128, optimizer=Adam, loss_function=CrossEntropy, architecture=ModifiedNet, epochs=20\n"
     ]
    },
    {
     "name": "stderr",
     "output_type": "stream",
     "text": [
      "[I 2024-11-30 00:24:15,121] Trial 37 finished with value: 71.81 and parameters: {'epochs': 20, 'batch_size': 128, 'learning_rate': 0.0010061820306782143, 'optimizer': 'Adam'}. Best is trial 36 with value: 72.16.\n"
     ]
    },
    {
     "name": "stdout",
     "output_type": "stream",
     "text": [
      "Files already downloaded and verified\n",
      "Files already downloaded and verified\n",
      "Running experiment: lr=0.0009887374600459284, batch_size=128, optimizer=Adam, loss_function=CrossEntropy, architecture=ModifiedNet, epochs=20\n"
     ]
    },
    {
     "name": "stderr",
     "output_type": "stream",
     "text": [
      "[I 2024-11-30 00:27:46,240] Trial 38 finished with value: 70.88 and parameters: {'epochs': 20, 'batch_size': 128, 'learning_rate': 0.0009887374600459284, 'optimizer': 'Adam'}. Best is trial 36 with value: 72.16.\n"
     ]
    },
    {
     "name": "stdout",
     "output_type": "stream",
     "text": [
      "Files already downloaded and verified\n",
      "Files already downloaded and verified\n",
      "Running experiment: lr=0.0014289732075127033, batch_size=128, optimizer=Adam, loss_function=CrossEntropy, architecture=ModifiedNet, epochs=20\n"
     ]
    },
    {
     "name": "stderr",
     "output_type": "stream",
     "text": [
      "[I 2024-11-30 00:30:56,091] Trial 39 finished with value: 71.61 and parameters: {'epochs': 20, 'batch_size': 128, 'learning_rate': 0.0014289732075127033, 'optimizer': 'Adam'}. Best is trial 36 with value: 72.16.\n"
     ]
    },
    {
     "name": "stdout",
     "output_type": "stream",
     "text": [
      "Files already downloaded and verified\n",
      "Files already downloaded and verified\n",
      "Running experiment: lr=0.0002748335668568137, batch_size=64, optimizer=Adam, loss_function=CrossEntropy, architecture=ModifiedNet, epochs=20\n"
     ]
    },
    {
     "name": "stderr",
     "output_type": "stream",
     "text": [
      "[I 2024-11-30 00:34:21,083] Trial 40 finished with value: 70.35 and parameters: {'epochs': 20, 'batch_size': 64, 'learning_rate': 0.0002748335668568137, 'optimizer': 'Adam'}. Best is trial 36 with value: 72.16.\n"
     ]
    },
    {
     "name": "stdout",
     "output_type": "stream",
     "text": [
      "Files already downloaded and verified\n",
      "Files already downloaded and verified\n",
      "Running experiment: lr=0.0009852370902615267, batch_size=128, optimizer=Adam, loss_function=CrossEntropy, architecture=ModifiedNet, epochs=20\n"
     ]
    },
    {
     "name": "stderr",
     "output_type": "stream",
     "text": [
      "[I 2024-11-30 00:37:44,837] Trial 41 finished with value: 71.55 and parameters: {'epochs': 20, 'batch_size': 128, 'learning_rate': 0.0009852370902615267, 'optimizer': 'Adam'}. Best is trial 36 with value: 72.16.\n"
     ]
    },
    {
     "name": "stdout",
     "output_type": "stream",
     "text": [
      "Files already downloaded and verified\n",
      "Files already downloaded and verified\n",
      "Running experiment: lr=0.00048097439572369926, batch_size=128, optimizer=Adam, loss_function=CrossEntropy, architecture=ModifiedNet, epochs=20\n"
     ]
    },
    {
     "name": "stderr",
     "output_type": "stream",
     "text": [
      "[I 2024-11-30 00:41:07,777] Trial 42 finished with value: 70.14 and parameters: {'epochs': 20, 'batch_size': 128, 'learning_rate': 0.00048097439572369926, 'optimizer': 'Adam'}. Best is trial 36 with value: 72.16.\n"
     ]
    },
    {
     "name": "stdout",
     "output_type": "stream",
     "text": [
      "Files already downloaded and verified\n",
      "Files already downloaded and verified\n",
      "Running experiment: lr=0.0006640199867518317, batch_size=128, optimizer=Adam, loss_function=CrossEntropy, architecture=ModifiedNet, epochs=20\n"
     ]
    },
    {
     "name": "stderr",
     "output_type": "stream",
     "text": [
      "[I 2024-11-30 00:44:29,422] Trial 43 finished with value: 70.81 and parameters: {'epochs': 20, 'batch_size': 128, 'learning_rate': 0.0006640199867518317, 'optimizer': 'Adam'}. Best is trial 36 with value: 72.16.\n"
     ]
    },
    {
     "name": "stdout",
     "output_type": "stream",
     "text": [
      "Files already downloaded and verified\n",
      "Files already downloaded and verified\n",
      "Running experiment: lr=0.001137605891284877, batch_size=128, optimizer=Adam, loss_function=CrossEntropy, architecture=ModifiedNet, epochs=20\n"
     ]
    },
    {
     "name": "stderr",
     "output_type": "stream",
     "text": [
      "[I 2024-11-30 00:47:37,237] Trial 44 finished with value: 71.69 and parameters: {'epochs': 20, 'batch_size': 128, 'learning_rate': 0.001137605891284877, 'optimizer': 'Adam'}. Best is trial 36 with value: 72.16.\n"
     ]
    },
    {
     "name": "stdout",
     "output_type": "stream",
     "text": [
      "Files already downloaded and verified\n",
      "Files already downloaded and verified\n",
      "Running experiment: lr=0.0012999279509311363, batch_size=128, optimizer=Adam, loss_function=CrossEntropy, architecture=ModifiedNet, epochs=20\n"
     ]
    },
    {
     "name": "stderr",
     "output_type": "stream",
     "text": [
      "[I 2024-11-30 00:51:03,198] Trial 45 finished with value: 71.7 and parameters: {'epochs': 20, 'batch_size': 128, 'learning_rate': 0.0012999279509311363, 'optimizer': 'Adam'}. Best is trial 36 with value: 72.16.\n"
     ]
    },
    {
     "name": "stdout",
     "output_type": "stream",
     "text": [
      "Files already downloaded and verified\n",
      "Files already downloaded and verified\n",
      "Running experiment: lr=0.0018489653779024827, batch_size=64, optimizer=Adam, loss_function=CrossEntropy, architecture=ModifiedNet, epochs=30\n"
     ]
    },
    {
     "name": "stderr",
     "output_type": "stream",
     "text": [
      "[I 2024-11-30 00:56:42,428] Trial 46 finished with value: 71.33 and parameters: {'epochs': 30, 'batch_size': 64, 'learning_rate': 0.0018489653779024827, 'optimizer': 'Adam'}. Best is trial 36 with value: 72.16.\n"
     ]
    },
    {
     "name": "stdout",
     "output_type": "stream",
     "text": [
      "Files already downloaded and verified\n",
      "Files already downloaded and verified\n",
      "Running experiment: lr=0.0005700923227984256, batch_size=128, optimizer=Adam, loss_function=CrossEntropy, architecture=ModifiedNet, epochs=20\n"
     ]
    },
    {
     "name": "stderr",
     "output_type": "stream",
     "text": [
      "[I 2024-11-30 00:59:37,837] Trial 47 finished with value: 70.73 and parameters: {'epochs': 20, 'batch_size': 128, 'learning_rate': 0.0005700923227984256, 'optimizer': 'Adam'}. Best is trial 36 with value: 72.16.\n"
     ]
    },
    {
     "name": "stdout",
     "output_type": "stream",
     "text": [
      "Files already downloaded and verified\n",
      "Files already downloaded and verified\n",
      "Running experiment: lr=0.000767706340331489, batch_size=64, optimizer=Adam, loss_function=CrossEntropy, architecture=ModifiedNet, epochs=30\n"
     ]
    },
    {
     "name": "stderr",
     "output_type": "stream",
     "text": [
      "[I 2024-11-30 01:03:56,319] Trial 48 finished with value: 71.37 and parameters: {'epochs': 30, 'batch_size': 64, 'learning_rate': 0.000767706340331489, 'optimizer': 'Adam'}. Best is trial 36 with value: 72.16.\n"
     ]
    },
    {
     "name": "stdout",
     "output_type": "stream",
     "text": [
      "Files already downloaded and verified\n",
      "Files already downloaded and verified\n",
      "Running experiment: lr=0.000428339547535551, batch_size=128, optimizer=Adam, loss_function=CrossEntropy, architecture=ModifiedNet, epochs=20\n"
     ]
    },
    {
     "name": "stderr",
     "output_type": "stream",
     "text": [
      "[I 2024-11-30 01:07:22,440] Trial 49 finished with value: 70.06 and parameters: {'epochs': 20, 'batch_size': 128, 'learning_rate': 0.000428339547535551, 'optimizer': 'Adam'}. Best is trial 36 with value: 72.16.\n"
     ]
    }
   ],
   "execution_count": 3
  },
  {
   "metadata": {
    "ExecuteTime": {
     "end_time": "2024-11-30T00:07:22.517923Z",
     "start_time": "2024-11-30T00:07:22.510615Z"
    }
   },
   "cell_type": "code",
   "source": [
    "with open('experiment_results_12.json', 'w') as f:\n",
    "    json.dump(results, f, indent=4)\n",
    "\n",
    "print(\"All experiments completed and results saved to 'experiment_results.json'\")"
   ],
   "id": "ecfadef626ac5530",
   "outputs": [
    {
     "name": "stdout",
     "output_type": "stream",
     "text": [
      "All experiments completed and results saved to 'experiment_results.json'\n"
     ]
    }
   ],
   "execution_count": 4
  }
 ],
 "metadata": {
  "kernelspec": {
   "display_name": "Python 3",
   "language": "python",
   "name": "python3"
  },
  "language_info": {
   "codemirror_mode": {
    "name": "ipython",
    "version": 2
   },
   "file_extension": ".py",
   "mimetype": "text/x-python",
   "name": "python",
   "nbconvert_exporter": "python",
   "pygments_lexer": "ipython2",
   "version": "2.7.6"
  }
 },
 "nbformat": 4,
 "nbformat_minor": 5
}
